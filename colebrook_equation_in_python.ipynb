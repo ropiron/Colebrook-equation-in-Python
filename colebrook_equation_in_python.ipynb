{
 "cells": [
  {
   "cell_type": "markdown",
   "metadata": {},
   "source": [
    "# Solving colebrook (nonlinear) equation in python"
   ]
  },
  {
   "cell_type": "markdown",
   "metadata": {},
   "source": [
    "## Colebrook equation"
   ]
  },
  {
   "cell_type": "code",
   "execution_count": 28,
   "metadata": {},
   "outputs": [
    {
     "name": "stdout",
     "output_type": "stream",
     "text": [
      "    fjac: array([[-1.]])\n",
      "     fun: array([-1.15463195e-13])\n",
      " message: 'The solution converged.'\n",
      "    nfev: 7\n",
      "     qtf: array([1.94662899e-08])\n",
      "       r: array([-150.19280078])\n",
      "  status: 1\n",
      " success: True\n",
      "       x: array([0.02269726])\n"
     ]
    }
   ],
   "source": [
    "import numpy\n",
    "from scipy.optimize import root\n",
    "\n",
    "w = 85.82 ## 流速 [m/s]\n",
    "d = 0.0326 ## 直径 [m]\n",
    "rho = 1.130 ## 空気密度 [kg/m3] \n",
    "ni = 1.89e-5 ## 空気の粘性係数 [Pa・s]\n",
    "\n",
    "Re = w*d*rho/ni ##レイノルズ数\n",
    "k = 0.000046 ##管の粗さ [m] 　材質：鉄\n",
    "\n",
    "def f(x):\n",
    "    return (-2*numpy.log10((2.51/(Re*numpy.sqrt(x))) + (k/(3.71*d))) - 1.0/numpy.sqrt(x))\n",
    "\n",
    "print(root(f, 0.02))"
   ]
  },
  {
   "cell_type": "markdown",
   "metadata": {},
   "source": [
    "## Equation proposed by Serghides(High accuracy)"
   ]
  },
  {
   "cell_type": "code",
   "execution_count": 44,
   "metadata": {},
   "outputs": [
    {
     "name": "stdout",
     "output_type": "stream",
     "text": [
      "0.022709361755507737\n"
     ]
    }
   ],
   "source": [
    "A=-2.0*numpy.log10((k/d)/3.7+12/Re)\n",
    "B=-2.0*numpy.log10((k/d)/3.7+(2.51*A)/Re)\n",
    "Cf=1/4*numpy.power((4.781-numpy.power((A-4.781),2)/(B-2*A+4.781)),-2)\n",
    "print(Cf*4)"
   ]
  },
  {
   "cell_type": "markdown",
   "metadata": {},
   "source": [
    "## Nikuradse formula"
   ]
  },
  {
   "cell_type": "code",
   "execution_count": 41,
   "metadata": {},
   "outputs": [
    {
     "name": "stdout",
     "output_type": "stream",
     "text": [
      "0.021381227336243768\n"
     ]
    }
   ],
   "source": [
    "Cfrough=0.25/numpy.power(2*numpy.log10(0.5*d/k)+1.74, 2)\n",
    "print(Cfrough*4)"
   ]
  }
 ],
 "metadata": {
  "kernelspec": {
   "display_name": "Python 3",
   "language": "python",
   "name": "python3"
  },
  "language_info": {
   "codemirror_mode": {
    "name": "ipython",
    "version": 3
   },
   "file_extension": ".py",
   "mimetype": "text/x-python",
   "name": "python",
   "nbconvert_exporter": "python",
   "pygments_lexer": "ipython3",
   "version": "3.7.6"
  }
 },
 "nbformat": 4,
 "nbformat_minor": 4
}
